{
 "cells": [
  {
   "cell_type": "code",
   "execution_count": 1,
   "id": "3825e90a-8614-40ab-a267-51958be3eafa",
   "metadata": {},
   "outputs": [],
   "source": [
    "#QUESTION 1\n",
    "#Discuss string slicing and provide examples"
   ]
  },
  {
   "cell_type": "code",
   "execution_count": 2,
   "id": "d6f157f6-04ef-4e26-a50d-a0ca288a7fe1",
   "metadata": {},
   "outputs": [],
   "source": [
    "#Answer 1\n",
    "#String slicing in Python allows you to access a portion or \"slice\" of a string by specifying a range of indices.\n",
    "#The syntax for slicing is: string[start:stop:step]\n",
    "#start: The index where the slice begins (inclusive). If omitted, it defaults to the beginning of the string.\n",
    "#stop: The index where the slice ends (exclusive). If omitted, it defaults to the end of the string.\n",
    "#step: The interval between each character in the slice. If omitted, it defaults to 1."
   ]
  },
  {
   "cell_type": "code",
   "execution_count": 3,
   "id": "2fc17751-d075-44ea-86a8-d45fc47cc844",
   "metadata": {},
   "outputs": [
    {
     "name": "stdout",
     "output_type": "stream",
     "text": [
      "Hello\n"
     ]
    }
   ],
   "source": [
    "#Basic Slicing\n",
    "\n",
    "text = \"Hello, World!\"\n",
    "print(text[0:5])"
   ]
  },
  {
   "cell_type": "code",
   "execution_count": 4,
   "id": "e221c673-4364-4ca9-b3bf-3180fff53f72",
   "metadata": {},
   "outputs": [
    {
     "name": "stdout",
     "output_type": "stream",
     "text": [
      "Hello\n",
      "World!\n"
     ]
    }
   ],
   "source": [
    "#Omitting start or stop\n",
    "\n",
    "print(text[:5])\n",
    "print(text[7:])"
   ]
  },
  {
   "cell_type": "code",
   "execution_count": 5,
   "id": "0e227153-88d1-4915-b335-7d54e9e4570c",
   "metadata": {},
   "outputs": [
    {
     "name": "stdout",
     "output_type": "stream",
     "text": [
      "Hlo ol!\n"
     ]
    }
   ],
   "source": [
    "#Using step\n",
    "\n",
    "print(text[::2])"
   ]
  },
  {
   "cell_type": "code",
   "execution_count": 6,
   "id": "f5a0c84e-7d82-4c73-98af-ba4e4256f075",
   "metadata": {},
   "outputs": [
    {
     "name": "stdout",
     "output_type": "stream",
     "text": [
      "World!\n"
     ]
    }
   ],
   "source": [
    "#Negative Indexing\n",
    "\n",
    "print(text[-6:])"
   ]
  },
  {
   "cell_type": "code",
   "execution_count": 7,
   "id": "d1e2d935-1f85-4091-95fb-4defba533ff0",
   "metadata": {},
   "outputs": [
    {
     "name": "stdout",
     "output_type": "stream",
     "text": [
      "!dlroW ,olleH\n"
     ]
    }
   ],
   "source": [
    "#Reversing a String\n",
    "\n",
    "print(text[::-1])"
   ]
  },
  {
   "cell_type": "code",
   "execution_count": 8,
   "id": "c92bda8b-c487-4915-9a69-8da7f3d0dbc5",
   "metadata": {},
   "outputs": [
    {
     "name": "stdout",
     "output_type": "stream",
     "text": [
      "el,W\n"
     ]
    }
   ],
   "source": [
    "#Skipping Characters\n",
    "\n",
    "print(text[1:8:2])"
   ]
  },
  {
   "cell_type": "code",
   "execution_count": 9,
   "id": "5e421187-678c-4138-9442-3659f447aecd",
   "metadata": {},
   "outputs": [],
   "source": [
    "#Question 2\n",
    "#Explain the key feature of lists in Python."
   ]
  },
  {
   "cell_type": "code",
   "execution_count": 1,
   "id": "299a7be9-5a77-4612-8494-db58f4806535",
   "metadata": {},
   "outputs": [],
   "source": [
    "#Answer 2\n",
    "#Lists in Python are one of the most versatile and commonly used data structures.\n",
    "#They are ordered, mutable (changeable), and can store a collection of items, which can be of different types (integers, strings)."
   ]
  },
  {
   "cell_type": "code",
   "execution_count": 3,
   "id": "7f345221-d8c6-4175-b3e7-449f43922d6e",
   "metadata": {},
   "outputs": [
    {
     "name": "stdout",
     "output_type": "stream",
     "text": [
      "1\n"
     ]
    }
   ],
   "source": [
    "#Ordered Collection\n",
    "\n",
    "#Lists maintain the order of elements. The order in which you insert items is the order in which they are stored.\n",
    "\n",
    "my_list = [1, 2, 3, 4]\n",
    "print(my_list[0])"
   ]
  },
  {
   "cell_type": "code",
   "execution_count": 4,
   "id": "88ba289e-216c-4cf6-8517-c7954e7a6fe0",
   "metadata": {},
   "outputs": [
    {
     "name": "stdout",
     "output_type": "stream",
     "text": [
      "[1, 20, 3]\n"
     ]
    }
   ],
   "source": [
    "#Mutable\n",
    "\n",
    "#Lists are mutable, meaning you can modify them after they are created. You can change, add, or remove elements.\n",
    "\n",
    "my_list = [1, 2, 3]\n",
    "my_list[1] = 20\n",
    "print(my_list)"
   ]
  },
  {
   "cell_type": "code",
   "execution_count": 5,
   "id": "fb360add-df88-4a9d-9f60-ac7afa565ee6",
   "metadata": {},
   "outputs": [
    {
     "name": "stdout",
     "output_type": "stream",
     "text": [
      "[1, 2, 3, 4]\n"
     ]
    }
   ],
   "source": [
    "#Dynamic Size\n",
    "\n",
    "#Lists can grow or shrink as needed. You can add elements to the list, and it will automatically resize.\n",
    "\n",
    "my_list = [1, 2, 3]\n",
    "my_list.append(4)\n",
    "print(my_list)"
   ]
  },
  {
   "cell_type": "code",
   "execution_count": 6,
   "id": "2d893e41-b9b9-4811-9662-53a263cc8055",
   "metadata": {},
   "outputs": [
    {
     "name": "stdout",
     "output_type": "stream",
     "text": [
      "[1, 'hello', 3.14, [2, 4]]\n"
     ]
    }
   ],
   "source": [
    "#Heterogeneous Elements\n",
    "\n",
    "#A single list can contain elements of different types, including integers, strings, and even other lists.\n",
    "\n",
    "my_list = [1, \"hello\", 3.14, [2, 4]]\n",
    "print(my_list)"
   ]
  },
  {
   "cell_type": "code",
   "execution_count": 7,
   "id": "457365d0-81a1-45a9-8926-cfd59627268e",
   "metadata": {},
   "outputs": [
    {
     "name": "stdout",
     "output_type": "stream",
     "text": [
      "[20, 30, 40]\n",
      "50\n"
     ]
    }
   ],
   "source": [
    "#Indexing and Slicing\n",
    "\n",
    "#Lists support both positive and negative indexing, as well as slicing, which allows you to access parts of the list.\n",
    "\n",
    "my_list = [10, 20, 30, 40, 50]\n",
    "print(my_list[1:4])  # Output: [20, 30, 40]\n",
    "print(my_list[-1]) "
   ]
  },
  {
   "cell_type": "code",
   "execution_count": 8,
   "id": "8bc015b0-a49e-4b01-8e78-2592dfbb5d08",
   "metadata": {},
   "outputs": [
    {
     "name": "stdout",
     "output_type": "stream",
     "text": [
      "1\n",
      "2\n",
      "3\n"
     ]
    }
   ],
   "source": [
    "#Iteration\n",
    "\n",
    "#Feature: Lists can be easily iterated over using loops, making it simple to process or analyze the elements.\n",
    "\n",
    "my_list = [1, 2, 3]\n",
    "for item in my_list:\n",
    "    print(item)"
   ]
  },
  {
   "cell_type": "code",
   "execution_count": 9,
   "id": "3c3760f0-2b82-4766-856d-d851b719fd80",
   "metadata": {},
   "outputs": [
    {
     "name": "stdout",
     "output_type": "stream",
     "text": [
      "[1, 2, 3]\n"
     ]
    }
   ],
   "source": [
    "#Comprehensive Methods\n",
    "\n",
    "#Python lists come with a variety of built-in methods for common operations, such as append(), extend(), insert(), remove(), pop(), sort(), reverse()\n",
    "\n",
    "my_list = [3, 1, 2]\n",
    "my_list.sort()\n",
    "print(my_list) "
   ]
  },
  {
   "cell_type": "code",
   "execution_count": 10,
   "id": "9d161100-4f9d-4418-8b2c-76a39edcb2a4",
   "metadata": {},
   "outputs": [
    {
     "name": "stdout",
     "output_type": "stream",
     "text": [
      "[0, 1, 4, 9, 16]\n"
     ]
    }
   ],
   "source": [
    "#List Comprehensions\n",
    "\n",
    "#Python offers a concise way to create lists based on existing lists or other iterables using list comprehensions.\n",
    "\n",
    "squares = [x**2 for x in range(5)]\n",
    "print(squares)"
   ]
  },
  {
   "cell_type": "code",
   "execution_count": null,
   "id": "84b30002-4f42-451c-b54d-bce0ef675a44",
   "metadata": {},
   "outputs": [
    {
     "name": "stdout",
     "output_type": "stream",
     "text": [
      "2\n",
      "3\n"
     ]
    }
   ],
   "source": [
    "#Tuples: Have fewer methods due to immutability. Methods like count() and index() are available, but you can't modify the tuple itself.\n",
    "\n",
    "my_tuple = (1, 2, 2, 3)\n",
    "print(my_tuple.count(2)) \n",
    "print(my_tuple.index(3))"
   ]
  },
  {
   "cell_type": "code",
   "execution_count": 11,
   "id": "095ba730-2740-4055-97d6-136f1fd91ce5",
   "metadata": {},
   "outputs": [
    {
     "name": "stdout",
     "output_type": "stream",
     "text": [
      "3\n"
     ]
    }
   ],
   "source": [
    "#Nesting\n",
    "\n",
    "#Lists can contain other lists, allowing for the creation of complex data structures like matrices or nested lists.\n",
    "\n",
    "nested_list = [[1, 2], [3, 4], [5, 6]]\n",
    "print(nested_list[1][0]) "
   ]
  },
  {
   "cell_type": "code",
   "execution_count": null,
   "id": "8a3d39d5-d926-4857-be86-ba806767a55c",
   "metadata": {},
   "outputs": [],
   "source": [
    "#Question 3\n",
    "#Describe how to access modify and delete elements in a list with examples"
   ]
  },
  {
   "cell_type": "code",
   "execution_count": null,
   "id": "e56d458e-ae9b-4aeb-81da-ec256eb6c06d",
   "metadata": {},
   "outputs": [],
   "source": [
    "#Answer 3\n",
    "#In Python, lists are mutable, which means you can access, modify, and delete elements. Here's how you can perform these operations"
   ]
  },
  {
   "cell_type": "code",
   "execution_count": 34,
   "id": "6bdd7da3-4205-4e9e-9e85-7b3435bd4620",
   "metadata": {},
   "outputs": [
    {
     "name": "stdout",
     "output_type": "stream",
     "text": [
      "10\n",
      "30\n",
      "50\n",
      "[20, 30, 40]\n"
     ]
    }
   ],
   "source": [
    "#Accessing Elements in a List\n",
    "#You can access elements in a list using indexing, which starts from 0 for the first element.\n",
    "\n",
    "my_list = [10, 20, 30, 40, 50]\n",
    "\n",
    "# Accessing the first element\n",
    "print(my_list[0])\n",
    "\n",
    "# Accessing the third element\n",
    "print(my_list[2]) \n",
    "\n",
    "# Accessing the last element using negative indexing\n",
    "print(my_list[-1]) \n",
    "\n",
    "# Accessing a slice of the list (from index 1 to 3, exclusive)\n",
    "print(my_list[1:4]) "
   ]
  },
  {
   "cell_type": "code",
   "execution_count": 35,
   "id": "a70aef0c-65af-4c19-b0e9-3d8017bfae9a",
   "metadata": {},
   "outputs": [
    {
     "name": "stdout",
     "output_type": "stream",
     "text": [
      "[10, 25, 30, 40, 50]\n",
      "[10, 25, 35, 45, 50]\n",
      "[100, 200, 300]\n"
     ]
    }
   ],
   "source": [
    "#Modifying Elements in a List\n",
    "#You can modify elements in a list by assigning a new value to a specific index.\n",
    "\n",
    "my_list = [10, 20, 30, 40, 50]\n",
    "\n",
    "# Modifying the second element\n",
    "my_list[1] = 25\n",
    "print(my_list)  \n",
    "\n",
    "# Modifying a slice of the list\n",
    "my_list[2:4] = [35, 45]\n",
    "print(my_list) \n",
    "\n",
    "# Changing the entire list\n",
    "my_list[:] = [100, 200, 300]\n",
    "print(my_list) "
   ]
  },
  {
   "cell_type": "code",
   "execution_count": 36,
   "id": "5f877ecc-b506-4543-93a5-d3cf729f9be9",
   "metadata": {},
   "outputs": [
    {
     "name": "stdout",
     "output_type": "stream",
     "text": [
      "[10, 20, 30, 40]\n",
      "[10, 20, 30, 40, 50, 60]\n",
      "[10, 15, 20, 30, 40, 50, 60]\n"
     ]
    }
   ],
   "source": [
    "#Adding Elements to a List\n",
    "#You can add elements to a list using methods like append(), extend(), and insert().\n",
    "\n",
    "my_list = [10, 20, 30]\n",
    "\n",
    "# Adding an element at the end\n",
    "my_list.append(40)\n",
    "print(my_list) \n",
    "\n",
    "# Adding multiple elements\n",
    "my_list.extend([50, 60])\n",
    "print(my_list)  \n",
    "\n",
    "# Inserting an element at a specific position\n",
    "my_list.insert(1, 15)\n",
    "print(my_list)"
   ]
  },
  {
   "cell_type": "code",
   "execution_count": 37,
   "id": "2b1ab1c5-846b-4d62-9c3f-cef53b9c93fa",
   "metadata": {},
   "outputs": [
    {
     "name": "stdout",
     "output_type": "stream",
     "text": [
      "[10, 20, 40, 50]\n",
      "[10, 40, 50]\n",
      "50\n",
      "[10, 40]\n",
      "[10, 40, 50]\n",
      "[]\n"
     ]
    }
   ],
   "source": [
    "#Deleting Elements from a List\n",
    "\n",
    "#You can delete elements using del, remove(), pop(), or by slicing.\n",
    "\n",
    "my_list = [10, 20, 30, 40, 50]\n",
    "\n",
    "# Deleting an element by index using 'del'\n",
    "del my_list[2]\n",
    "print(my_list) \n",
    "\n",
    "# Removing an element by value using 'remove()'\n",
    "my_list.remove(20)\n",
    "print(my_list) \n",
    "\n",
    "# Removing the last element using 'pop()'\n",
    "last_element = my_list.pop()\n",
    "print(last_element) \n",
    "print(my_list)     \n",
    "\n",
    "# Deleting a slice of elements\n",
    "my_list = [10, 20, 30, 40, 50]\n",
    "del my_list[1:3]\n",
    "print(my_list)  \n",
    "\n",
    "# Clearing the entire list\n",
    "my_list.clear()\n",
    "print(my_list) "
   ]
  },
  {
   "cell_type": "code",
   "execution_count": 33,
   "id": "8cfff420-4713-4f6f-aeba-b878549a2813",
   "metadata": {},
   "outputs": [],
   "source": [
    "#Question 4\n",
    "#Compare and contrast tuples and lists with examples."
   ]
  },
  {
   "cell_type": "code",
   "execution_count": 14,
   "id": "46ce7566-d8b5-4f79-b745-3fc2ffb2aebb",
   "metadata": {},
   "outputs": [],
   "source": [
    "#ANSWER 4\n",
    "#Tuples and lists are both sequence data types in Python that can store collections of items. \n",
    "#However, they have key differences in terms of mutability, usage, and performance."
   ]
  },
  {
   "cell_type": "code",
   "execution_count": 15,
   "id": "9240bf19-f7f7-4c48-ab3f-ff9d7299ffde",
   "metadata": {},
   "outputs": [
    {
     "name": "stdout",
     "output_type": "stream",
     "text": [
      "[10, 2, 3]\n"
     ]
    }
   ],
   "source": [
    "#Mutability\n",
    "\n",
    "#Lists: Mutable (modifiable after creation).\n",
    "\n",
    "my_list = [1, 2, 3]\n",
    "my_list[0] = 10\n",
    "print(my_list)"
   ]
  },
  {
   "cell_type": "code",
   "execution_count": 16,
   "id": "8f7526d8-9ba7-490f-84df-75c4c2435b48",
   "metadata": {},
   "outputs": [],
   "source": [
    "#Tuples: Immutable (cannot be modified after creation)\n",
    "\n",
    "my_tuple = (1, 2, 3)\n",
    "\n",
    "## my_tuple[0] = 10  # This would return an Error"
   ]
  },
  {
   "cell_type": "code",
   "execution_count": 22,
   "id": "2cf5d354-5340-48dc-81c4-20d51f4bf5c5",
   "metadata": {},
   "outputs": [],
   "source": [
    "#Syntax\n",
    "\n",
    "#Lists: Defined using square brackets []\n",
    "\n",
    "my_list = [1, 2, 3]\n",
    "\n",
    "#Tuples: Defined using parentheses (), but can also be created without parentheses using commas\n",
    "\n",
    "my_tuple = (1, 2, 3)"
   ]
  },
  {
   "cell_type": "code",
   "execution_count": 18,
   "id": "bc21b5c0-8136-4d75-beb1-1a0ff7fccd54",
   "metadata": {},
   "outputs": [],
   "source": [
    "#Performance\n",
    "\n",
    "#Lists: Slightly slower in operations compared to tuples due to their mutable nature. \n",
    "#Lists require more memory since they need to support resizing.\n",
    "\n",
    "#Tuples: Faster than lists because they are immutable and their memory size is fixed once created."
   ]
  },
  {
   "cell_type": "code",
   "execution_count": 20,
   "id": "9eeef167-d674-4dff-bbb9-7707f7267890",
   "metadata": {},
   "outputs": [
    {
     "data": {
      "text/plain": [
       "0.06476372806355357"
      ]
     },
     "execution_count": 20,
     "metadata": {},
     "output_type": "execute_result"
    }
   ],
   "source": [
    "import timeit\n",
    "timeit.timeit(stmt=\"[1, 2, 3, 4, 5]\") #list"
   ]
  },
  {
   "cell_type": "code",
   "execution_count": 21,
   "id": "8216e0dc-9b38-455a-8f05-33e9ab5eaef9",
   "metadata": {},
   "outputs": [
    {
     "data": {
      "text/plain": [
       "0.011143843876197934"
      ]
     },
     "execution_count": 21,
     "metadata": {},
     "output_type": "execute_result"
    }
   ],
   "source": [
    "timeit.timeit(stmt=\"(1, 2, 3, 4, 5)\") #tuple"
   ]
  },
  {
   "cell_type": "code",
   "execution_count": 23,
   "id": "610c4f91-833c-44e4-b2f0-9c2de9012d46",
   "metadata": {},
   "outputs": [
    {
     "name": "stdout",
     "output_type": "stream",
     "text": [
      "['apple', 'banana', 'cherry']\n"
     ]
    }
   ],
   "source": [
    "#Usage Scenarios\n",
    "\n",
    "#Lists: Used when the collection of items is expected to change, such as in dynamic arrays or when you need to add, remove, or modify elements.\n",
    "\n",
    "my_list = [\"apple\", \"banana\"]\n",
    "my_list.append(\"cherry\")\n",
    "print(my_list) "
   ]
  },
  {
   "cell_type": "code",
   "execution_count": 24,
   "id": "e40966d3-2fe3-4023-972d-216ba081b51f",
   "metadata": {},
   "outputs": [],
   "source": [
    "#Tuples: Used when the collection of items is fixed and not meant to change, such as in representing fixed data like coordinates, or when you want to ensure data integrity.\n",
    "\n",
    "coordinates = (10.0, 20.0)"
   ]
  },
  {
   "cell_type": "code",
   "execution_count": 25,
   "id": "ec5972b8-0ccc-4169-8039-286ccd833e79",
   "metadata": {},
   "outputs": [
    {
     "name": "stdout",
     "output_type": "stream",
     "text": [
      "[1, 2, 3]\n"
     ]
    }
   ],
   "source": [
    "#Methods Available\n",
    "\n",
    "#Lists: Have a wide range of methods like append(), extend(), insert(), remove(), pop(), sort(), and reverse().\n",
    "\n",
    "my_list = [3, 1, 2]\n",
    "my_list.sort()\n",
    "print(my_list)"
   ]
  },
  {
   "cell_type": "code",
   "execution_count": 27,
   "id": "2d5ed6f3-9dec-4ef2-9953-82d230d900cf",
   "metadata": {},
   "outputs": [
    {
     "name": "stdout",
     "output_type": "stream",
     "text": [
      "[1, [2, 3], ('a', 'b')]\n"
     ]
    }
   ],
   "source": [
    "#Nested Structures\n",
    "\n",
    "#Lists: Can contain other lists, tuples, or any other type of object\n",
    "\n",
    "my_list = [1, [2, 3], (\"a\", \"b\")]\n",
    "print(my_list) "
   ]
  },
  {
   "cell_type": "code",
   "execution_count": 28,
   "id": "bb70b54f-81df-4e4a-bb8a-5fe94b565a84",
   "metadata": {},
   "outputs": [
    {
     "name": "stdout",
     "output_type": "stream",
     "text": [
      "(1, [2, 3], ('a', 'b'))\n"
     ]
    }
   ],
   "source": [
    "#Tuples: Can also contain lists, other tuples, or any other type of object.\n",
    "\n",
    "my_tuple = (1, [2, 3], (\"a\", \"b\"))\n",
    "print(my_tuple)"
   ]
  },
  {
   "cell_type": "code",
   "execution_count": 31,
   "id": "c6cdc527-c934-4e47-93f2-99855a1e2cbb",
   "metadata": {},
   "outputs": [
    {
     "name": "stdout",
     "output_type": "stream",
     "text": [
      "{(1, 2, 3): 'value'}\n"
     ]
    }
   ],
   "source": [
    "#Immutability and Hashability\n",
    "\n",
    "#Lists: Not hashable due to mutability, so they cannot be used as keys in a dictionary or elements of a set.\n",
    "\n",
    "#Tuples: Hashable if they contain only hashable elements, making them suitable for use as dictionary keys or set elements.\n",
    "\n",
    "my_tuple = (1, 2, 3)\n",
    "my_dict = {my_tuple: \"value\"}\n",
    "print(my_dict)"
   ]
  },
  {
   "cell_type": "code",
   "execution_count": 38,
   "id": "feda3270-e3a5-4578-9eeb-5be3e95b4fbc",
   "metadata": {},
   "outputs": [],
   "source": [
    "#Memory Efficiency\n",
    "\n",
    "#Lists: Require more memory because they are mutable and need to support resizing.\n",
    "#Tuples: More memory-efficient due to their immutability."
   ]
  },
  {
   "cell_type": "code",
   "execution_count": 39,
   "id": "5738d817-e851-4566-98a3-39d72888fd10",
   "metadata": {},
   "outputs": [],
   "source": [
    "#Question 5\n",
    "#Describe the key features of sets and provide examples of their use."
   ]
  },
  {
   "cell_type": "code",
   "execution_count": 40,
   "id": "d5266713-7749-45f4-b905-1c1cd63c62a4",
   "metadata": {},
   "outputs": [],
   "source": [
    "#Answer 5\n",
    "#Sets in Python are an unordered collection of unique elements. \n",
    "#They are highly useful when you need to store items and ensure that each item appears only once. Here are the key features of sets and examples of their use:"
   ]
  },
  {
   "cell_type": "code",
   "execution_count": 41,
   "id": "81c292c5-d27a-484d-bed1-ad3f226ccb9f",
   "metadata": {},
   "outputs": [
    {
     "name": "stdout",
     "output_type": "stream",
     "text": [
      "{1, 2, 3}\n"
     ]
    }
   ],
   "source": [
    "#Unordered Collection\n",
    "\n",
    "#Feature: Sets are unordered, meaning that the elements do not have a specific order, and the order may change. \n",
    "#As a result, sets do not support indexing, slicing, or other sequence-like behavior.\n",
    "\n",
    "my_set = {3, 1, 2}\n",
    "print(my_set) "
   ]
  },
  {
   "cell_type": "code",
   "execution_count": 42,
   "id": "18bd29f9-9211-4b6a-b8c9-8dae2bee2a5d",
   "metadata": {},
   "outputs": [
    {
     "name": "stdout",
     "output_type": "stream",
     "text": [
      "{1, 2, 3}\n"
     ]
    }
   ],
   "source": [
    "#Unique Elements\n",
    "\n",
    "#Feature: Sets automatically ensure that all elements are unique. If you try to add a duplicate element, it will be ignored.\n",
    "\n",
    "my_set = {1, 2, 2, 3}\n",
    "print(my_set)"
   ]
  },
  {
   "cell_type": "code",
   "execution_count": 43,
   "id": "3ee67643-4ed4-4c5b-8a04-4c8ef54e985e",
   "metadata": {},
   "outputs": [
    {
     "name": "stdout",
     "output_type": "stream",
     "text": [
      "{1, 2, 3, 4}\n"
     ]
    }
   ],
   "source": [
    "#Mutable\n",
    "\n",
    "#Feature: Sets are mutable, meaning you can add, remove, or modify elements after the set is created.\n",
    "\n",
    "my_set = {1, 2, 3}\n",
    "my_set.add(4)\n",
    "print(my_set)"
   ]
  },
  {
   "cell_type": "code",
   "execution_count": 44,
   "id": "e4b27173-bd85-4dce-9e65-82785e72a7cc",
   "metadata": {},
   "outputs": [
    {
     "name": "stdout",
     "output_type": "stream",
     "text": [
      "{1, 2, 3, 4, 5}\n"
     ]
    }
   ],
   "source": [
    "#No Duplicate Entries\n",
    "\n",
    "#Feature: Sets inherently prevent duplicate entries. This makes them useful for filtering out duplicates from a list or another iterable.\n",
    "\n",
    "numbers = [1, 2, 2, 3, 4, 4, 5]\n",
    "unique_numbers = set(numbers)\n",
    "print(unique_numbers)"
   ]
  },
  {
   "cell_type": "code",
   "execution_count": 1,
   "id": "0db63a36-2e7b-4e54-ad25-7de269682ec7",
   "metadata": {},
   "outputs": [
    {
     "name": "stdout",
     "output_type": "stream",
     "text": [
      "{1, 2, 3, 4, 5}\n",
      "{3}\n",
      "{1, 2}\n",
      "{1, 2, 4, 5}\n"
     ]
    }
   ],
   "source": [
    "#Set Operations\n",
    "\n",
    "#Feature: Sets support mathematical operations like union, intersection, difference, and symmetric difference, which are highly useful for comparing sets of data.\n",
    "\n",
    "set_a = {1, 2, 3}\n",
    "set_b = {3, 4, 5}\n",
    "\n",
    "# Union: Elements in either set\n",
    "print(set_a | set_b)  \n",
    "\n",
    "# Intersection: Elements in both sets\n",
    "print(set_a & set_b) \n",
    "\n",
    "# Difference: Elements in set_a but not in set_b\n",
    "print(set_a - set_b)  \n",
    "\n",
    "# Symmetric Difference: Elements in either set_a or set_b but not in both\n",
    "print(set_a ^ set_b)  "
   ]
  },
  {
   "cell_type": "code",
   "execution_count": 2,
   "id": "2e361d1c-cb1b-4de5-89fa-49c84bcb2761",
   "metadata": {},
   "outputs": [
    {
     "name": "stdout",
     "output_type": "stream",
     "text": [
      "{0, 1, 4, 9, 16}\n"
     ]
    }
   ],
   "source": [
    "#Set Comprehensions\n",
    "\n",
    "#Feature: Similar to list comprehensions, you can create sets using set comprehensions for concise and readable code.\n",
    "\n",
    "squared_numbers = {x**2 for x in range(5)}\n",
    "print(squared_numbers)"
   ]
  },
  {
   "cell_type": "code",
   "execution_count": 3,
   "id": "d5702e32-7f8e-445b-a7f8-41e40c04b16e",
   "metadata": {},
   "outputs": [],
   "source": [
    "# Immutable Set Type (frozenset)\n",
    "\n",
    "#Feature: Python provides an immutable version of a set called a frozenset. Once created, a frozenset cannot be modified.\n",
    "\n",
    "# my_set.add(4)  # This would raise an AttributeError"
   ]
  },
  {
   "cell_type": "code",
   "execution_count": 4,
   "id": "e61fcbb5-254e-4fef-9fa6-e1eacd07249a",
   "metadata": {},
   "outputs": [
    {
     "name": "stdout",
     "output_type": "stream",
     "text": [
      "True\n",
      "False\n"
     ]
    }
   ],
   "source": [
    "#Membership Testing\n",
    "\n",
    "#Feature: Sets are optimized for fast membership testing, making them ideal for scenarios where you need to frequently check whether an item is present in the set.\n",
    "\n",
    "my_set = {1, 2, 3, 4, 5}\n",
    "print(3 in my_set)  \n",
    "print(6 in my_set)"
   ]
  },
  {
   "cell_type": "code",
   "execution_count": 5,
   "id": "7e49cfbe-f857-4c94-847b-66c1afd183f7",
   "metadata": {},
   "outputs": [
    {
     "name": "stdout",
     "output_type": "stream",
     "text": [
      "{1, 3}\n",
      "{1, 3}\n"
     ]
    }
   ],
   "source": [
    "#Removing Elements Safely\n",
    "\n",
    "#Feature: Sets offer a discard() method that removes an element if it exists and does nothing if it doesn’t, which avoids potential errors.\n",
    "\n",
    "my_set = {1, 2, 3}\n",
    "my_set.discard(2)\n",
    "print(my_set)  \n",
    "\n",
    "my_set.discard(4)  # Does nothing\n",
    "print(my_set)  "
   ]
  },
  {
   "cell_type": "code",
   "execution_count": 6,
   "id": "ad30f888-90b8-4848-9d4e-bb2970aace63",
   "metadata": {},
   "outputs": [],
   "source": [
    "#Question 6\n",
    "#Discuss the use cases of tuples and sets in Python programming."
   ]
  },
  {
   "cell_type": "code",
   "execution_count": 7,
   "id": "03b1fcd6-4d6a-43f7-bf32-dca6becad61a",
   "metadata": {},
   "outputs": [],
   "source": [
    "#Answer 6\n",
    "#Tuples and sets in Python each have distinct characteristics that make them suited for specific use cases. The common use cases for both are:"
   ]
  },
  {
   "cell_type": "code",
   "execution_count": 8,
   "id": "a5c3d459-d5ef-4114-bf4e-8c87b69883db",
   "metadata": {},
   "outputs": [],
   "source": [
    "#Fixed Collections of Data\n",
    "\n",
    "#Use Case: When you have a collection of items that should not change throughout the program's execution, tuples are ideal.\n",
    "\n",
    "coordinates = (40.7128, 74.0060) \n",
    "color = (255, 255, 0)"
   ]
  },
  {
   "cell_type": "code",
   "execution_count": 9,
   "id": "8c3b8fb3-b5ba-4f35-a69f-375fb4e34979",
   "metadata": {},
   "outputs": [
    {
     "name": "stdout",
     "output_type": "stream",
     "text": [
      "1 5\n"
     ]
    }
   ],
   "source": [
    "#Return Multiple Values from a Function\n",
    "\n",
    "#Use Case: Functions in Python can return multiple values as a tuple. This is useful for returning complex results where multiple pieces of related data are needed.\n",
    "\n",
    "def get_min_max(numbers):\n",
    "    return min(numbers), max(numbers)\n",
    "\n",
    "min_val, max_val = get_min_max([1, 2, 3, 4, 5])\n",
    "print(min_val, max_val) "
   ]
  },
  {
   "cell_type": "code",
   "execution_count": 10,
   "id": "ba69aea6-9f94-4cd9-ab18-73b129332f70",
   "metadata": {},
   "outputs": [
    {
     "name": "stdout",
     "output_type": "stream",
     "text": [
      "95\n"
     ]
    }
   ],
   "source": [
    "#Dictionary Keys\n",
    "\n",
    "#Use Case: Tuples are immutable and hashable, making them suitable as keys in a dictionary when you need to map from a composite key.\n",
    "\n",
    "student_scores = {(\"John\", \"Doe\"): 95, (\"Jane\", \"Doe\"): 90}\n",
    "print(student_scores[(\"John\", \"Doe\")])"
   ]
  },
  {
   "cell_type": "code",
   "execution_count": 11,
   "id": "548031ff-ca5d-43d2-b41e-f3d2193b270c",
   "metadata": {},
   "outputs": [],
   "source": [
    "#Immutable Data Structures\n",
    "\n",
    "#Use Case: When you want to ensure that a sequence of elements remains constant and cannot be accidentally altered, use a tuple.\n",
    "\n",
    "days_of_week = (\"Monday\", \"Tuesday\", \"Wednesday\", \"Thursday\", \"Friday\", \"Saturday\", \"Sunday\")"
   ]
  },
  {
   "cell_type": "code",
   "execution_count": 12,
   "id": "d4e4c7c4-2403-495a-96d1-4ccc8dd1ea75",
   "metadata": {},
   "outputs": [
    {
     "name": "stdout",
     "output_type": "stream",
     "text": [
      "Alice 30 Engineer\n"
     ]
    }
   ],
   "source": [
    "#Unpacking Sequences\n",
    "\n",
    "#Use Case: Tuples can be used to unpack sequences of values into individual variables, which is useful in loops and multiple assignments.\n",
    "\n",
    "person = (\"Alice\", 30, \"Engineer\")\n",
    "name, age, profession = person\n",
    "print(name, age, profession)"
   ]
  },
  {
   "cell_type": "code",
   "execution_count": 13,
   "id": "70a82981-f548-4988-a722-5438f032e076",
   "metadata": {},
   "outputs": [],
   "source": [
    "#Efficient Storage of Data\n",
    "\n",
    "#Use Case: Since tuples are immutable and generally smaller in memory than lists, they are more efficient for storing and iterating over large datasets that don’t need modification.\n",
    "\n",
    "coordinates = [(x, y) for x in range(100) for y in range(100)]"
   ]
  },
  {
   "cell_type": "code",
   "execution_count": 14,
   "id": "971b3461-634b-4a38-9e28-50e68b056e15",
   "metadata": {},
   "outputs": [
    {
     "name": "stdout",
     "output_type": "stream",
     "text": [
      "{1, 2, 3, 4, 5}\n"
     ]
    }
   ],
   "source": [
    "#Use Cases of Sets\n",
    "\n",
    "#Removing Duplicates from a Collection\n",
    "\n",
    "#Use Case: Sets automatically eliminate duplicate values, making them ideal for cleaning up data by removing duplicates.\n",
    "\n",
    "items = [1, 2, 2, 3, 4, 4, 5]\n",
    "unique_items = set(items)\n",
    "print(unique_items) "
   ]
  },
  {
   "cell_type": "code",
   "execution_count": 15,
   "id": "52572f6e-0015-4296-ab46-7ecf0119cd84",
   "metadata": {},
   "outputs": [
    {
     "name": "stdout",
     "output_type": "stream",
     "text": [
      "ID is valid\n"
     ]
    }
   ],
   "source": [
    "#Membership Testing\n",
    "\n",
    "#Use Case: Sets provide fast membership tests, which is useful for checking if an item exists in a collection.\n",
    "\n",
    "valid_ids = {101, 102, 103, 104}\n",
    "if 102 in valid_ids:\n",
    "    print(\"ID is valid\") "
   ]
  },
  {
   "cell_type": "code",
   "execution_count": 17,
   "id": "73e990e4-c0a4-43a1-aeb9-69cc30e18616",
   "metadata": {},
   "outputs": [],
   "source": [
    "#Mathematical Set Operations\n",
    "\n",
    "#Use Case: When you need to perform mathematical operations like union, intersection, difference, and symmetric difference between groups of data.\n",
    "\n",
    "set_a = {1, 2, 3}\n",
    "set_b = {3, 4, 5}\n",
    "union = set_a | set_b  \n",
    "intersection = set_a & set_b  \n",
    "difference = set_a - set_b  \n",
    "symmetric_difference = set_a ^ set_b  "
   ]
  },
  {
   "cell_type": "code",
   "execution_count": 18,
   "id": "b306c41c-0678-4100-80ce-b3453651415e",
   "metadata": {},
   "outputs": [
    {
     "data": {
      "text/plain": [
       "{1, 2, 3, 4, 5}"
      ]
     },
     "execution_count": 18,
     "metadata": {},
     "output_type": "execute_result"
    }
   ],
   "source": [
    "union"
   ]
  },
  {
   "cell_type": "code",
   "execution_count": 19,
   "id": "9c2b2ec8-938a-468d-9657-af466c8d8304",
   "metadata": {},
   "outputs": [
    {
     "data": {
      "text/plain": [
       "{3}"
      ]
     },
     "execution_count": 19,
     "metadata": {},
     "output_type": "execute_result"
    }
   ],
   "source": [
    "intersection"
   ]
  },
  {
   "cell_type": "code",
   "execution_count": 20,
   "id": "fdcd7367-e82e-4908-a687-0060d237d424",
   "metadata": {},
   "outputs": [
    {
     "data": {
      "text/plain": [
       "{1, 2}"
      ]
     },
     "execution_count": 20,
     "metadata": {},
     "output_type": "execute_result"
    }
   ],
   "source": [
    "difference"
   ]
  },
  {
   "cell_type": "code",
   "execution_count": 23,
   "id": "285e5e7e-f391-4ed0-8295-28680f9e75bd",
   "metadata": {},
   "outputs": [
    {
     "data": {
      "text/plain": [
       "{1, 2, 4, 5}"
      ]
     },
     "execution_count": 23,
     "metadata": {},
     "output_type": "execute_result"
    }
   ],
   "source": [
    "symmetric_difference"
   ]
  },
  {
   "cell_type": "code",
   "execution_count": 24,
   "id": "6e829bd4-f732-4af8-8519-6353efb35a4c",
   "metadata": {},
   "outputs": [
    {
     "name": "stdout",
     "output_type": "stream",
     "text": [
      "{'apple', 'cherry', 'banana'}\n"
     ]
    }
   ],
   "source": [
    "#Storing Unique Elements\n",
    "\n",
    "#Use Case: Sets are perfect for cases where you need to maintain a collection of unique items, such as unique user IDs, unique words in a text, etc.\n",
    "\n",
    "words = set([\"apple\", \"banana\", \"apple\", \"cherry\"])\n",
    "print(words) "
   ]
  },
  {
   "cell_type": "code",
   "execution_count": 25,
   "id": "dc46bc21-1a43-47cf-9075-b42507432c10",
   "metadata": {},
   "outputs": [
    {
     "name": "stdout",
     "output_type": "stream",
     "text": [
      "True\n"
     ]
    }
   ],
   "source": [
    "#Efficient Data Lookups\n",
    "\n",
    "#Use Case: Sets provide an efficient way to store large datasets where frequent lookups are required, such as checking for the existence of elements\n",
    "\n",
    "large_dataset = set(range(1000000))\n",
    "print(999999 in large_dataset)"
   ]
  },
  {
   "cell_type": "code",
   "execution_count": 29,
   "id": "bf6871d4-f913-4f57-b9ee-62c77b2c05b1",
   "metadata": {},
   "outputs": [],
   "source": [
    "#Finding Common Elements\n",
    "\n",
    "#Use Case: Sets are useful for finding common elements between different datasets or collections.\n",
    "students_class_a = {\"Alice\", \"Bob\", \"Charlie\"}\n",
    "students_class_b = {\"Bob\", \"Dave\", \"Eve\"}\n",
    "common_students = students_class_a & students_class_b"
   ]
  },
  {
   "cell_type": "code",
   "execution_count": 31,
   "id": "d9d21b14-a05a-405c-b35c-403466adeb1e",
   "metadata": {},
   "outputs": [
    {
     "data": {
      "text/plain": [
       "{'Bob'}"
      ]
     },
     "execution_count": 31,
     "metadata": {},
     "output_type": "execute_result"
    }
   ],
   "source": [
    "common_students"
   ]
  },
  {
   "cell_type": "code",
   "execution_count": 32,
   "id": "c42c47e0-1045-41ae-a76c-4dd73a122ff0",
   "metadata": {},
   "outputs": [
    {
     "name": "stdout",
     "output_type": "stream",
     "text": [
      "['email1@example.com', 'email2@example.com']\n"
     ]
    }
   ],
   "source": [
    "#Data Integrity and Clean-Up\n",
    "\n",
    "#Use Case: Sets can be used to enforce uniqueness and automatically remove any accidental duplicates, which is crucial in data validation and integrity processes.\n",
    "\n",
    "email_list = [\"email1@example.com\", \"email2@example.com\", \"email1@example.com\"]\n",
    "clean_email_list = list(set(email_list))\n",
    "print(clean_email_list)"
   ]
  },
  {
   "cell_type": "code",
   "execution_count": 33,
   "id": "99a90bff-d331-4716-87ea-3035b64a2fe5",
   "metadata": {},
   "outputs": [],
   "source": [
    "#Question 7\n",
    "#Describe how to add modify and delete items in a dictionary with examples."
   ]
  },
  {
   "cell_type": "code",
   "execution_count": 34,
   "id": "68ef6625-a74e-43f0-b838-0bfe1a30b196",
   "metadata": {},
   "outputs": [],
   "source": [
    "#Answer 7\n",
    "#Dictionaries in Python are mutable, unordered collections of key-value pairs. They are highly efficient for lookups, modifications, and deletions."
   ]
  },
  {
   "cell_type": "code",
   "execution_count": 35,
   "id": "2268dcaf-5020-4347-bda0-141c958b5762",
   "metadata": {},
   "outputs": [
    {
     "name": "stdout",
     "output_type": "stream",
     "text": [
      "{'name': 'Alice'}\n",
      "{'name': 'Alice', 'age': 30, 'city': 'New York'}\n"
     ]
    }
   ],
   "source": [
    "#Adding Items to a Dictionary\n",
    "\n",
    "#You can add items to a dictionary by assigning a value to a new key.\n",
    "\n",
    "my_dict = {}\n",
    "\n",
    "# Adding a key-value pair\n",
    "my_dict[\"name\"] = \"Alice\"\n",
    "print(my_dict)  \n",
    "\n",
    "# Adding more key-value pairs\n",
    "my_dict[\"age\"] = 30\n",
    "my_dict[\"city\"] = \"New York\"\n",
    "print(my_dict) "
   ]
  },
  {
   "cell_type": "code",
   "execution_count": 36,
   "id": "25482c38-b86e-48d0-b093-2d76a666b063",
   "metadata": {},
   "outputs": [
    {
     "name": "stdout",
     "output_type": "stream",
     "text": [
      "{'name': 'Alice', 'age': 31, 'city': 'New York'}\n",
      "{'name': 'Bob', 'age': 31, 'city': 'San Francisco'}\n"
     ]
    }
   ],
   "source": [
    "#Modifying Items in a Dictionary\n",
    "\n",
    "#You can modify the value associated with an existing key by reassigning a new value to it.\n",
    "\n",
    "my_dict = {\"name\": \"Alice\", \"age\": 30, \"city\": \"New York\"}\n",
    "\n",
    "# Modifying an existing value\n",
    "my_dict[\"age\"] = 31\n",
    "print(my_dict)  # Output: {'name': 'Alice', 'age': 31, 'city': 'New York'}\n",
    "\n",
    "# Modifying multiple values\n",
    "my_dict[\"name\"] = \"Bob\"\n",
    "my_dict[\"city\"] = \"San Francisco\"\n",
    "print(my_dict)"
   ]
  },
  {
   "cell_type": "code",
   "execution_count": 37,
   "id": "42d04cad-5286-4fd3-83b0-c62e0d7493fc",
   "metadata": {},
   "outputs": [
    {
     "name": "stdout",
     "output_type": "stream",
     "text": [
      "{'name': 'Alice', 'city': 'New York'}\n"
     ]
    }
   ],
   "source": [
    "#Deleting Items from a Dictionary\n",
    "\n",
    "#You can delete items from a dictionary using the del statement, the pop() method, or the popitem() method.\n",
    "\n",
    "my_dict = {\"name\": \"Alice\", \"age\": 30, \"city\": \"New York\"}\n",
    "\n",
    "# Deleting a key-value pair using `del`\n",
    "del my_dict[\"age\"]\n",
    "print(my_dict)"
   ]
  },
  {
   "cell_type": "code",
   "execution_count": 39,
   "id": "cd9b1cdc-4714-4540-9f81-d2bb264befb4",
   "metadata": {},
   "outputs": [
    {
     "name": "stdout",
     "output_type": "stream",
     "text": [
      "30\n",
      "{'name': 'Alice', 'city': 'New York'}\n"
     ]
    }
   ],
   "source": [
    "#Using pop()\n",
    "#pop() removes the item with the specified key and returns the value.\n",
    "\n",
    "my_dict = {\"name\": \"Alice\", \"age\": 30, \"city\": \"New York\"}\n",
    "\n",
    "# Deleting a key-value pair using `pop()`\n",
    "age = my_dict.pop(\"age\")\n",
    "print(age)  \n",
    "print(my_dict)"
   ]
  },
  {
   "cell_type": "code",
   "execution_count": 40,
   "id": "8c861a07-c56c-4f2b-98e5-2d0172eb8b19",
   "metadata": {},
   "outputs": [
    {
     "name": "stdout",
     "output_type": "stream",
     "text": [
      "('city', 'New York')\n",
      "{'name': 'Alice', 'age': 30}\n"
     ]
    }
   ],
   "source": [
    "#Using popitem()\n",
    "#popitem() removes and returns the last key-value pair added to the dictionary. This is particularly useful in Python 3.7+ where dictionaries maintain insertion order.\n",
    "\n",
    "my_dict = {\"name\": \"Alice\", \"age\": 30, \"city\": \"New York\"}\n",
    "\n",
    "# Deleting the last key-value pair using `popitem()`\n",
    "last_item = my_dict.popitem()\n",
    "print(last_item)  \n",
    "print(my_dict)"
   ]
  },
  {
   "cell_type": "code",
   "execution_count": 41,
   "id": "c2b5c3b7-fd62-45c6-aa08-91567e8178a6",
   "metadata": {},
   "outputs": [
    {
     "name": "stdout",
     "output_type": "stream",
     "text": [
      "{}\n"
     ]
    }
   ],
   "source": [
    "#Clearing All Items from a Dictionary\n",
    "\n",
    "#You can remove all key-value pairs from a dictionary using the clear() method.\n",
    "\n",
    "my_dict = {\"name\": \"Alice\", \"age\": 30, \"city\": \"New York\"}\n",
    "\n",
    "# Clearing all items in the dictionary\n",
    "my_dict.clear()\n",
    "print(my_dict) "
   ]
  },
  {
   "cell_type": "code",
   "execution_count": 42,
   "id": "2c519c9a-297c-4f85-baf3-31693068ab70",
   "metadata": {},
   "outputs": [
    {
     "name": "stdout",
     "output_type": "stream",
     "text": [
      "{'name': 'Alice', 'age': 31, 'city': 'New York'}\n"
     ]
    }
   ],
   "source": [
    "#Updating a Dictionary with Another Dictionary\n",
    "#You can add and modify multiple key-value pairs at once using the update() method, which merges another dictionary into the original one.\n",
    "\n",
    "my_dict = {\"name\": \"Alice\", \"age\": 30}\n",
    "\n",
    "# Updating the dictionary with another dictionary\n",
    "my_dict.update({\"age\": 31, \"city\": \"New York\"})\n",
    "print(my_dict) "
   ]
  },
  {
   "cell_type": "code",
   "execution_count": 43,
   "id": "3836b1e5-16c2-4f47-94f7-9feacd35a8d8",
   "metadata": {},
   "outputs": [],
   "source": [
    "#Question 8\n",
    "#Discuss the importance of dictionary keys being immutable and provide examples."
   ]
  },
  {
   "cell_type": "code",
   "execution_count": 44,
   "id": "2a690fcf-a846-4477-a217-ef00ce86a0ce",
   "metadata": {},
   "outputs": [],
   "source": [
    "#Answer 8\n",
    "#In Python, dictionary keys must be immutable because dictionaries rely on a hash-based implementation for efficient data retrieval. \n",
    "#The immutability of keys ensures that the hash value remains consistent throughout the lifespan of the dictionary, which is crucial for maintaining the integrity and efficiency of the data structure."
   ]
  },
  {
   "cell_type": "code",
   "execution_count": 45,
   "id": "0ec68e29-824d-47ed-839a-37cea282112a",
   "metadata": {},
   "outputs": [],
   "source": [
    "#Importance of Dictionary Keys Being Immutable\n",
    "\n",
    "#Hashing Requirement:\n",
    "#Explanation: Dictionaries in Python use a hash table to store key-value pairs. \n",
    "#When you insert a key into a dictionary, Python computes the hash value of the key and uses this hash to determine where to store the corresponding value. If a key were mutable, its hash value could change, leading to inconsistent access, retrieval, or even loss of data.\n",
    "#Example: If you used a list (which is mutable) as a key and then modified the list, the dictionary would be unable to locate the corresponding value because the hash value would have changed.\n",
    "\n",
    "#Ensures Data Integrity:\n",
    "#Explanation: Immutable keys guarantee that the mapping between a key and its value remains stable. This prevents potential bugs where modifying a key might inadvertently lead to incorrect data retrieval or loss.\n",
    "#Example: Using a string or tuple (both immutable types) as a key ensures that once you insert a key-value pair, the key will always point to the correct value.\n",
    "\n",
    "#Efficiency in Lookups:\n",
    "#Explanation: The hash-based lookup mechanism is optimized for immutable keys. This allows for constant-time complexity (O(1)) on average for lookups, insertions, and deletions. Mutable keys would compromise this efficiency.\n",
    "#Example: A dictionary with immutable keys like strings or integers allows for quick and reliable access to values."
   ]
  },
  {
   "cell_type": "code",
   "execution_count": 46,
   "id": "933a4eb7-ba6b-45cd-b576-e3c99a03c97a",
   "metadata": {},
   "outputs": [],
   "source": [
    "#Examples of Immutable vs. Mutable Keys"
   ]
  },
  {
   "cell_type": "code",
   "execution_count": 47,
   "id": "d7a2b19a-3e24-4e98-9c7b-b731323295fe",
   "metadata": {},
   "outputs": [
    {
     "name": "stdout",
     "output_type": "stream",
     "text": [
      "Alice\n"
     ]
    }
   ],
   "source": [
    "# Immutable Keys (Allowed)\n",
    "\n",
    "my_dict = {\"name\": \"Alice\", \"age\": 30}\n",
    "print(my_dict[\"name\"])"
   ]
  },
  {
   "cell_type": "code",
   "execution_count": 48,
   "id": "a25d4893-bf01-4106-8d50-ec2202a97109",
   "metadata": {},
   "outputs": [
    {
     "name": "stdout",
     "output_type": "stream",
     "text": [
      "Location A\n"
     ]
    }
   ],
   "source": [
    "#Tuples (containing only immutable elements)\n",
    "\n",
    "point = (1, 2)\n",
    "my_dict = {point: \"Location A\"}\n",
    "print(my_dict[(1, 2)])"
   ]
  },
  {
   "cell_type": "code",
   "execution_count": 49,
   "id": "6487b62a-0cd3-454b-9ac8-bf5b7d517658",
   "metadata": {},
   "outputs": [
    {
     "name": "stdout",
     "output_type": "stream",
     "text": [
      "one\n"
     ]
    }
   ],
   "source": [
    "#Integers:\n",
    "\n",
    "my_dict = {1: \"one\", 2: \"two\"}\n",
    "print(my_dict[1])"
   ]
  },
  {
   "cell_type": "code",
   "execution_count": 51,
   "id": "4470e78e-a5d4-49ee-a181-e2e499bdfad0",
   "metadata": {},
   "outputs": [
    {
     "ename": "TypeError",
     "evalue": "unhashable type: 'list'",
     "output_type": "error",
     "traceback": [
      "\u001b[0;31m---------------------------------------------------------------------------\u001b[0m",
      "\u001b[0;31mTypeError\u001b[0m                                 Traceback (most recent call last)",
      "Cell \u001b[0;32mIn[51], line 6\u001b[0m\n\u001b[1;32m      1\u001b[0m \u001b[38;5;66;03m#Mutable Keys (Not Allowed):\u001b[39;00m\n\u001b[1;32m      2\u001b[0m \n\u001b[1;32m      3\u001b[0m \u001b[38;5;66;03m#Lists\u001b[39;00m\n\u001b[1;32m      5\u001b[0m key \u001b[38;5;241m=\u001b[39m [\u001b[38;5;241m1\u001b[39m, \u001b[38;5;241m2\u001b[39m, \u001b[38;5;241m3\u001b[39m]\n\u001b[0;32m----> 6\u001b[0m my_dict \u001b[38;5;241m=\u001b[39m {key: \u001b[38;5;124m\"\u001b[39m\u001b[38;5;124mvalue\u001b[39m\u001b[38;5;124m\"\u001b[39m}\n",
      "\u001b[0;31mTypeError\u001b[0m: unhashable type: 'list'"
     ]
    }
   ],
   "source": [
    "#Mutable Keys (Not Allowed):\n",
    "\n",
    "#Lists\n",
    "\n",
    "key = [1, 2, 3]\n",
    "my_dict = {key: \"value\"}"
   ]
  },
  {
   "cell_type": "code",
   "execution_count": 52,
   "id": "e389b899-7ea9-4e6e-8b4c-b96a3dffccba",
   "metadata": {},
   "outputs": [
    {
     "ename": "TypeError",
     "evalue": "unhashable type: 'dict'",
     "output_type": "error",
     "traceback": [
      "\u001b[0;31m---------------------------------------------------------------------------\u001b[0m",
      "\u001b[0;31mTypeError\u001b[0m                                 Traceback (most recent call last)",
      "Cell \u001b[0;32mIn[52], line 4\u001b[0m\n\u001b[1;32m      1\u001b[0m \u001b[38;5;66;03m#Dictionaries\u001b[39;00m\n\u001b[1;32m      3\u001b[0m key \u001b[38;5;241m=\u001b[39m {\u001b[38;5;124m\"\u001b[39m\u001b[38;5;124ma\u001b[39m\u001b[38;5;124m\"\u001b[39m: \u001b[38;5;241m1\u001b[39m}\n\u001b[0;32m----> 4\u001b[0m my_dict \u001b[38;5;241m=\u001b[39m {key: \u001b[38;5;124m\"\u001b[39m\u001b[38;5;124mvalue\u001b[39m\u001b[38;5;124m\"\u001b[39m}\n",
      "\u001b[0;31mTypeError\u001b[0m: unhashable type: 'dict'"
     ]
    }
   ],
   "source": [
    "#Dictionaries\n",
    "\n",
    "key = {\"a\": 1}\n",
    "my_dict = {key: \"value\"}"
   ]
  },
  {
   "cell_type": "code",
   "execution_count": 53,
   "id": "cb4f0f34-bc0b-4b85-af59-a795d5f4fb36",
   "metadata": {},
   "outputs": [],
   "source": [
    "#Examples of Potential Issues with Mutable Keys"
   ]
  },
  {
   "cell_type": "code",
   "execution_count": 54,
   "id": "117b4d1a-5c63-4f07-aa03-865193e6553d",
   "metadata": {},
   "outputs": [
    {
     "ename": "TypeError",
     "evalue": "unhashable type: 'list'",
     "output_type": "error",
     "traceback": [
      "\u001b[0;31m---------------------------------------------------------------------------\u001b[0m",
      "\u001b[0;31mTypeError\u001b[0m                                 Traceback (most recent call last)",
      "Cell \u001b[0;32mIn[54], line 5\u001b[0m\n\u001b[1;32m      1\u001b[0m \u001b[38;5;66;03m#Consider a scenario where you could use a mutable list as a key:\u001b[39;00m\n\u001b[1;32m      2\u001b[0m \n\u001b[1;32m      3\u001b[0m \u001b[38;5;66;03m# Hypothetical example (won't work in Python):\u001b[39;00m\n\u001b[1;32m      4\u001b[0m key \u001b[38;5;241m=\u001b[39m [\u001b[38;5;241m1\u001b[39m, \u001b[38;5;241m2\u001b[39m, \u001b[38;5;241m3\u001b[39m]\n\u001b[0;32m----> 5\u001b[0m my_dict \u001b[38;5;241m=\u001b[39m {key: \u001b[38;5;124m\"\u001b[39m\u001b[38;5;124mvalue\u001b[39m\u001b[38;5;124m\"\u001b[39m}\n\u001b[1;32m      7\u001b[0m \u001b[38;5;66;03m# Now modify the key\u001b[39;00m\n\u001b[1;32m      8\u001b[0m key\u001b[38;5;241m.\u001b[39mappend(\u001b[38;5;241m4\u001b[39m)\n",
      "\u001b[0;31mTypeError\u001b[0m: unhashable type: 'list'"
     ]
    }
   ],
   "source": [
    "#Consider a scenario where you could use a mutable list as a key:\n",
    "\n",
    "# Hypothetical example (won't work in Python):\n",
    "key = [1, 2, 3]\n",
    "my_dict = {key: \"value\"}\n",
    "\n",
    "# Now modify the key\n",
    "key.append(4)\n",
    "\n",
    "# Attempt to retrieve the value\n",
    "print(my_dict[key])  # This would fail because the hash value has changed."
   ]
  },
  {
   "cell_type": "code",
   "execution_count": 55,
   "id": "2d20b959-a8f1-4ffe-a979-8748a1560005",
   "metadata": {},
   "outputs": [],
   "source": [
    "#If Python allowed mutable keys, this would break the dictionary's ability to find the correct value associated with key, because the list's hash would no longer match the original position in the hash table."
   ]
  },
  {
   "cell_type": "code",
   "execution_count": 56,
   "id": "4c6d6a5f-9f8e-4a74-8785-3fab5c650d30",
   "metadata": {},
   "outputs": [],
   "source": [
    "#Why Immutability is Crucial\n",
    "\n",
    "#Consistency: Immutable keys ensure that once a key is inserted into a dictionary, it consistently maps to the same value.\n",
    "#Reliability: Developers can rely on the fact that dictionary keys will not change, avoiding bugs and ensuring that data structures work as expected.\n",
    "#Performance: Hash-based lookups are optimized for immutable keys, allowing dictionaries to provide fast access to data."
   ]
  },
  {
   "cell_type": "code",
   "execution_count": null,
   "id": "b4b15bd3-7ac0-4ca7-82f8-55bf63ec1259",
   "metadata": {},
   "outputs": [],
   "source": []
  }
 ],
 "metadata": {
  "kernelspec": {
   "display_name": "Python 3 (ipykernel)",
   "language": "python",
   "name": "python3"
  },
  "language_info": {
   "codemirror_mode": {
    "name": "ipython",
    "version": 3
   },
   "file_extension": ".py",
   "mimetype": "text/x-python",
   "name": "python",
   "nbconvert_exporter": "python",
   "pygments_lexer": "ipython3",
   "version": "3.10.8"
  }
 },
 "nbformat": 4,
 "nbformat_minor": 5
}
